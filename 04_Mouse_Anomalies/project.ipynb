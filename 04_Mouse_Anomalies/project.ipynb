{
 "cells": [
  {
   "cell_type": "code",
   "execution_count": 1,
   "id": "18018b81",
   "metadata": {},
   "outputs": [],
   "source": [
    "import os\n",
    "import pandas as pd\n",
    "import numpy as np\n",
    "import joblib\n",
    "from sklearn.preprocessing import StandardScaler\n",
    "from src.data_preparation import *\n",
    "from src.trainers import *\n",
    "from src.testing import *\n",
    "import warnings\n",
    "from hydra import initialize, compose\n",
    "from omegaconf import OmegaConf\n",
    "\n",
    "warnings.filterwarnings(\"ignore\", message=\".*use_label_encoder.*\")\n",
    "with initialize(version_base=None, config_path=\"configs\"):\n",
    "    cfg = compose(config_name=\"default\")"
   ]
  },
  {
   "cell_type": "markdown",
   "id": "30861290",
   "metadata": {},
   "source": [
    "Data from all unauthorized users was used as validation data. The only difference from authorized users is that the data is normalized relative to the StandardScaler object created for the training data."
   ]
  },
  {
   "cell_type": "code",
   "execution_count": null,
   "id": "356232b4",
   "metadata": {},
   "outputs": [],
   "source": [
    "all_users = cfg.all_users\n",
    "main_user = cfg.main_user\n",
    "scaler_path = cfg.paths.scaler\n",
    "ohe_path = cfg.paths.one_hot_encoding\n",
    "\n",
    "try:\n",
    "    all_users.remove(main_user)\n",
    "except ValueError:\n",
    "    pass\n",
    "all_users.insert(0, main_user)\n",
    "\n",
    "raw_by_user = {}\n",
    "all_action_types = set()\n",
    "\n",
    "for user_id in all_users:\n",
    "    ds_dir = os.path.join(cfg.paths.raw_data_root, \"training_files\", f\"user{user_id}\")\n",
    "    df_raw = extract_features_from_dir(ds_dir, attach_filename=False)\n",
    "    if df_raw.empty:\n",
    "        print(f\"No data for user{user_id}.\")\n",
    "        continue\n",
    "    print(f\"Extracted data for user{user_id}\")\n",
    "    raw_by_user[user_id] = df_raw\n",
    "    all_action_types.update(df_raw['action_type'].dropna().unique().tolist())\n",
    "\n",
    "if not raw_by_user:\n",
    "    raise RuntimeError(\"No training/validation data.\")\n",
    "\n",
    "# Define constant OHE columns\n",
    "ohe_cols = [f\"action_type_{cat}\" for cat in sorted(all_action_types)]\n",
    "joblib.dump(ohe_cols, ohe_path)\n",
    "\n",
    "# Fit scalera on main user\n",
    "main_df_raw = raw_by_user.get(main_user)\n",
    "if main_df_raw is None or main_df_raw.empty:\n",
    "    raise RuntimeError(\"No main user data for Scaler.\")\n",
    "\n",
    "scaler = StandardScaler()\n",
    "main_numeric = split_numeric(main_df_raw)\n",
    "scaler.fit(main_numeric)\n",
    "joblib.dump(scaler, scaler_path)\n",
    "\n",
    "# Transform + OHE + save per user\n",
    "for user_id, df_raw in raw_by_user.items():\n",
    "    df_numeric = split_numeric(df_raw)\n",
    "    X_scaled = pd.DataFrame(\n",
    "        scaler.transform(df_numeric),\n",
    "        columns=df_numeric.columns,\n",
    "        index=df_numeric.index\n",
    "    )\n",
    "    X_ohe = ensure_ohe(df_raw['action_type'], ohe_cols)\n",
    "    df_final = pd.concat([X_scaled, X_ohe], axis=1)\n",
    "    joblib.dump(df_final, f\"{cfg.paths.preprocessed_data}/df_user{user_id}.pkl\")\n",
    "    print(f\"Saved df_user{user_id}.pkl  rows={len(df_final)}\")"
   ]
  },
  {
   "cell_type": "markdown",
   "id": "117abc07",
   "metadata": {},
   "source": [
    "The test data is enriched with file index information and whether the session was authorized or not. The file indexes are important because the tests verified whether entire actions were authorized, as defined in the public_labels.csv file."
   ]
  },
  {
   "cell_type": "code",
   "execution_count": null,
   "id": "203da161",
   "metadata": {},
   "outputs": [],
   "source": [
    "csv_path = os.path.join(cfg.paths.raw_data_root, \"public_labels.csv\")\n",
    "main_user = cfg.main_user\n",
    "test_dir = os.path.join(cfg.paths.raw_data_root, \"test_files\")\n",
    "scaler = joblib.load(cfg.paths.scaler)\n",
    "ohe_cols = joblib.load(cfg.paths.one_hot_encoding)\n",
    "\n",
    "labels = pd.read_csv(csv_path)\n",
    "label_map = dict(zip(labels['filename'].astype(str), labels['is_illegal']))\n",
    "\n",
    "df_test_raw = extract_features_from_dir(os.path.join(test_dir, f\"user{main_user}\"), attach_filename=True)\n",
    "if df_test_raw.empty:\n",
    "    raise RuntimeError(f\"No test data in {test_dir}.\")\n",
    "\n",
    "df_test_raw['is_illegal'] = df_test_raw['__filename'].map(lambda x: label_map.get(str(x), None))\n",
    "df_test_raw = df_test_raw[~df_test_raw['is_illegal'].isna()]\n",
    "\n",
    "if df_test_raw.empty:\n",
    "    raise RuntimeError(\"No matching labels for test files.\")\n",
    "\n",
    "test_numeric = split_numeric(df_test_raw, extra_drop_cols=['is_illegal', 'file_id', '__filename'])\n",
    "X_test_scaled = pd.DataFrame(\n",
    "    scaler.transform(test_numeric),\n",
    "    columns=test_numeric.columns,\n",
    "    index=test_numeric.index\n",
    ")\n",
    "\n",
    "X_test_ohe = ensure_ohe(df_test_raw['action_type'], ohe_cols)\n",
    "\n",
    "df_test_final = pd.concat(\n",
    "    [X_test_scaled, X_test_ohe, df_test_raw[['is_illegal', 'file_id']]],\n",
    "    axis=1\n",
    ")\n",
    "\n",
    "joblib.dump(df_test_final, os.path.join(cfg.paths.preprocessed_data, f\"df_user{main_user}_test.pkl\"))\n",
    "print(f\"Saved df_user{main_user}_test.pkl  (rows={len(df_test_final)})\")"
   ]
  },
  {
   "cell_type": "markdown",
   "id": "cc98d930",
   "metadata": {},
   "source": [
    "## TRAINING"
   ]
  },
  {
   "cell_type": "code",
   "execution_count": 2,
   "id": "b0719fd9",
   "metadata": {},
   "outputs": [],
   "source": [
    "legal_df = joblib.load(os.path.join(cfg.paths.preprocessed_data, f'df_user{cfg.main_user}.pkl'))\n",
    "illegal_users = list(cfg.all_users)\n",
    "illegal_users.remove(cfg.main_user)\n",
    "illegal_df = pd.concat([joblib.load(os.path.join(cfg.paths.preprocessed_data, f\"df_user{id}.pkl\")) for id in illegal_users], ignore_index=True)\n",
    "\n",
    "numeric_cols = [c for c in legal_df.columns if np.issubdtype(legal_df[c].dtype, np.number)]\n",
    "categorical_cols = [c for c in legal_df.columns if c not in numeric_cols]"
   ]
  },
  {
   "cell_type": "markdown",
   "id": "e0a1c34d",
   "metadata": {},
   "source": [
    "## Unsupervised"
   ]
  },
  {
   "cell_type": "markdown",
   "id": "29c15664",
   "metadata": {},
   "source": [
    "###  K-means trainer"
   ]
  },
  {
   "cell_type": "code",
   "execution_count": null,
   "id": "60b11aa7",
   "metadata": {},
   "outputs": [],
   "source": [
    "km_trainer = KMeansTrainer(\n",
    "    legal_df,\n",
    "    results_path=cfg.paths.K_means.all_results,\n",
    "    cv_number=cfg.cv_number,\n",
    "    numeric_cols=numeric_cols,\n",
    "    categorical_cols=[],\n",
    ")\n",
    "best_score_km, best_params_km, best_model_km, best_pca_km = km_trainer.custom_grid_search(\n",
    "    OmegaConf.to_container(cfg.K_means.param_grid, resolve=True)\n",
    ")\n",
    "save_results(\n",
    "    \"KMeans\",\n",
    "    best_params_km, best_model_km, best_pca_km,\n",
    "    cfg.paths.K_means.best_results,\n",
    "    cfg.paths.K_means.model,\n",
    "    cfg.paths.K_means.preproc,\n",
    ")"
   ]
  },
  {
   "cell_type": "markdown",
   "id": "1c4d386c",
   "metadata": {},
   "source": [
    "###  Isolation Forest Trainer"
   ]
  },
  {
   "cell_type": "code",
   "execution_count": null,
   "id": "0fd5e6b1",
   "metadata": {},
   "outputs": [],
   "source": [
    "if_trainer = IFTrainer(\n",
    "    legal_df,\n",
    "    results_path=cfg.paths.Isolation_forest.all_results,\n",
    "    cv_number=cfg.cv_number,\n",
    "    numeric_cols=numeric_cols,\n",
    "    categorical_cols=categorical_cols,\n",
    ")\n",
    "best_score_if, best_params_if, best_model_if, best_preproc_if = if_trainer.custom_grid_search(\n",
    "    OmegaConf.to_container(cfg.Isolation_forest.param_grid, resolve=True)\n",
    ")\n",
    "save_results(\n",
    "    \"IsolationForest\",\n",
    "    best_params_if, best_model_if, best_preproc_if,\n",
    "    cfg.paths.Isolation_forest.best_results,\n",
    "    cfg.paths.Isolation_forest.model,\n",
    "    cfg.paths.Isolation_forest.preproc,\n",
    ")"
   ]
  },
  {
   "cell_type": "markdown",
   "id": "a7a3a26a",
   "metadata": {},
   "source": [
    "##  Supervised"
   ]
  },
  {
   "cell_type": "code",
   "execution_count": 4,
   "id": "3f15bb95",
   "metadata": {},
   "outputs": [],
   "source": [
    "legal_df_sup = legal_df.copy();   legal_df_sup[\"label\"] = 0\n",
    "illegal_df_sup = illegal_df.copy(); illegal_df_sup[\"label\"] = 1\n",
    "X_sup = pd.concat([legal_df_sup, illegal_df_sup], ignore_index=True)\n",
    "y_sup = X_sup[\"label\"]; X_sup = X_sup.drop(columns=[\"label\"])"
   ]
  },
  {
   "cell_type": "markdown",
   "id": "235690e4",
   "metadata": {},
   "source": [
    "###  XGBoost Trainer"
   ]
  },
  {
   "cell_type": "code",
   "execution_count": null,
   "id": "ee8385f6",
   "metadata": {},
   "outputs": [],
   "source": [
    "xgb_trainer = XGBoostTrainer(\n",
    "    X_sup, y_sup,\n",
    "    results_path=cfg.paths.XGBoost.all_results,\n",
    "    cv_number=cfg.cv_number,\n",
    "    numeric_cols=numeric_cols,\n",
    "    categorical_cols=categorical_cols,\n",
    ")\n",
    "best_score, best_params, best_model, best_preproc = xgb_trainer.custom_grid_search(\n",
    "    OmegaConf.to_container(cfg.XGBoost.param_grid, resolve=True)\n",
    ")\n",
    "save_results(\n",
    "    \"XGBoost\",\n",
    "    best_params, best_model, best_preproc,\n",
    "    cfg.paths.XGBoost.best_results,\n",
    "    cfg.paths.XGBoost.model,\n",
    "    cfg.paths.XGBoost.preproc,\n",
    ")"
   ]
  },
  {
   "cell_type": "markdown",
   "id": "97ababa8",
   "metadata": {},
   "source": [
    "###  SVM Trainer"
   ]
  },
  {
   "cell_type": "code",
   "execution_count": null,
   "id": "639b7e35",
   "metadata": {},
   "outputs": [],
   "source": [
    "svm_trainer = SVMTrainer(\n",
    "    X_sup, y_sup,\n",
    "    results_path=cfg.paths.SVM.all_results,\n",
    "    cv_number=cfg.cv_number,\n",
    "    numeric_cols=numeric_cols,\n",
    "    categorical_cols=[],\n",
    ")\n",
    "best_score_svm, best_params_svm, best_model_svm, best_pca_svm = svm_trainer.custom_grid_search(\n",
    "    OmegaConf.to_container(cfg.SVM.param_grid, resolve=True)\n",
    ")\n",
    "save_results(\n",
    "    \"SVM\",\n",
    "    best_params_svm, best_model_svm, best_pca_svm,\n",
    "    cfg.paths.SVM.best_results,\n",
    "    cfg.paths.SVM.model,\n",
    "    cfg.paths.SVM.preproc,\n",
    ")"
   ]
  },
  {
   "cell_type": "markdown",
   "id": "f6b3171f",
   "metadata": {},
   "source": [
    "##  TESTING"
   ]
  },
  {
   "cell_type": "code",
   "execution_count": 20,
   "id": "3446b5ca",
   "metadata": {},
   "outputs": [],
   "source": [
    "df = joblib.load(os.path.join(cfg.paths.preprocessed_data, f'df_user{cfg.main_user}_test.pkl'))\n",
    "\n",
    "numeric_cols = [c for c in df.columns if np.issubdtype(df[c].dtype, np.number) and c not in ['is_illegal', 'file_id']]\n",
    "categorical_cols = [c for c in df.columns if c not in numeric_cols + ['is_illegal', 'file_id']]\n",
    "\n",
    "df_numeric = df[numeric_cols]\n",
    "df_categorical = df[categorical_cols]\n",
    "\n",
    "is_illegal = df['is_illegal'].T\n",
    "file_id = df['file_id']"
   ]
  },
  {
   "cell_type": "markdown",
   "id": "aff54d78",
   "metadata": {},
   "source": [
    "###  K-means"
   ]
  },
  {
   "cell_type": "code",
   "execution_count": null,
   "id": "25b91f1d",
   "metadata": {},
   "outputs": [],
   "source": [
    "estimator, preprocessed_data = read_model_preprocess_data(\n",
    "    cfg.paths.K_means.model, \n",
    "    cfg.paths.K_means.preproc,\n",
    "    df_numeric)\n",
    "\n",
    "distances = estimator.transform(preprocessed_data)\n",
    "scores = np.min(distances, axis=1)\n",
    "scores = scores.transpose()\n",
    "\n",
    "visualize_results(scores, file_id, is_illegal)"
   ]
  },
  {
   "cell_type": "code",
   "execution_count": null,
   "id": "d08a5f79",
   "metadata": {},
   "outputs": [],
   "source": [
    "estimator, preprocessed_data = read_model_preprocess_data(\n",
    "    cfg.paths.K_means.model,\n",
    "    cfg.paths.K_means.preproc,\n",
    "    df_numeric)\n",
    "\n",
    "distances = estimator.transform(preprocessed_data)\n",
    "fpr, tpr, thresholds_roc, roc_auc, precision, recall, pr_auc = validate_per_action(scores, is_illegal)\n",
    "\n",
    "plot(fpr, tpr, roc_auc, recall, precision, pr_auc, thresholds_roc)"
   ]
  },
  {
   "cell_type": "markdown",
   "id": "1434f609",
   "metadata": {},
   "source": [
    "###  Las Izolacyjny"
   ]
  },
  {
   "cell_type": "code",
   "execution_count": null,
   "id": "ac303f44",
   "metadata": {},
   "outputs": [],
   "source": [
    "estimator, preprocessed_data = read_model_preprocess_data(\n",
    "    cfg.paths.Isolation_forest.model, \n",
    "    cfg.paths.Isolation_forest.preproc,\n",
    "    df_numeric)\n",
    "\n",
    "preprocessed_data = np.concatenate([preprocessed_data, df_categorical.to_numpy()], axis=1)\n",
    "scores = estimator.decision_function(preprocessed_data)\n",
    "scores = - scores\n",
    "\n",
    "visualize_results(scores, file_id, is_illegal)"
   ]
  },
  {
   "cell_type": "markdown",
   "id": "465e2d90",
   "metadata": {},
   "source": [
    "### XGBoost"
   ]
  },
  {
   "cell_type": "code",
   "execution_count": null,
   "id": "060a04ac",
   "metadata": {},
   "outputs": [
    {
     "data": {
      "image/png": "[encoded data removed]",
      "text/plain": [
       "<Figure size 640x480 with 1 Axes>"
      ]
     },
     "metadata": {},
     "output_type": "display_data"
    },
    {
     "data": {
      "image/png": "[encoded data removed]",
      "text/plain": [
       "<Figure size 640x480 with 1 Axes>"
      ]
     },
     "metadata": {},
     "output_type": "display_data"
    },
    {
     "name": "stdout",
     "output_type": "stream",
     "text": [
      "auc:  1.0\n",
      "pr auc:  1.0\n",
      "acc:  [0.4931506849315068, 0.5068493150684932, 1.0, 0.5068493150684932]\n",
      "recalls:  [0.0, 0.02702702702702703, 1.0, 1.0]\n"
     ]
    }
   ],
   "source": [
    "estimator, preprocessed_data = read_model_preprocess_data(\n",
    "    cfg.paths.XGBoost.model, \n",
    "    cfg.paths.XGBoost.preproc,\n",
    "    df_numeric)\n",
    "\n",
    "preprocessed_data = np.concatenate([preprocessed_data, df_categorical.to_numpy()], axis=1)\n",
    "scores = estimator.predict_proba(preprocessed_data[:, ])[:, 1]\n",
    "visualize_results(scores, file_id, is_illegal)"
   ]
  },
  {
   "cell_type": "code",
   "execution_count": null,
   "id": "bce34dfb",
   "metadata": {},
   "outputs": [],
   "source": [
    "estimator, preprocessed_data = read_model_preprocess_data(\n",
    "    cfg.paths.XGBoost.model, \n",
    "    cfg.paths.XGBoost.preproc,\n",
    "    df_numeric)\n",
    "\n",
    "preprocessed_data = np.concatenate([preprocessed_data, df_categorical.to_numpy()], axis=1)\n",
    "scores = estimator.predict_proba(preprocessed_data)[:, 1]\n",
    "fpr, tpr, thresholds_roc, roc_auc, precision, recall, pr_auc = validate_per_action(scores, is_illegal)\n",
    "\n",
    "plot(fpr, tpr, roc_auc, recall, precision, pr_auc, thresholds_roc)"
   ]
  },
  {
   "cell_type": "markdown",
   "id": "a8ac1620",
   "metadata": {},
   "source": [
    "###  SVM"
   ]
  },
  {
   "cell_type": "code",
   "execution_count": null,
   "id": "4d8836d5",
   "metadata": {},
   "outputs": [],
   "source": [
    "estimator, preprocessed_data = read_model_preprocess_data(\n",
    "    cfg.paths.SVM.model, \n",
    "    cfg.paths.SVM.preproc,\n",
    "    df_numeric)\n",
    "\n",
    "scores = estimator.decision_function(preprocessed_data)\n",
    "visualize_results(scores, file_id, is_illegal)"
   ]
  },
  {
   "cell_type": "code",
   "execution_count": null,
   "id": "36ad9693",
   "metadata": {},
   "outputs": [],
   "source": [
    "estimator, preprocessed_data = read_model_preprocess_data(\n",
    "    cfg.paths.SVM.model, \n",
    "    cfg.paths.SVM.preproc,\n",
    "    df_numeric)\n",
    "\n",
    "scores = estimator.decision_function(preprocessed_data)\n",
    "fpr, tpr, thresholds_roc, roc_auc, precision, recall, pr_auc = validate_per_action(scores, is_illegal)\n",
    "plot(fpr, tpr, roc_auc, recall, precision, pr_auc, thresholds_roc)"
   ]
  },
  {
   "cell_type": "markdown",
   "id": "19d6d197",
   "metadata": {},
   "source": [
    "## Wnioski\n",
    "- Analiza PCA ograniczająca liczbę wymiarów poprawiła skuteczność każdego testowanego modelu, szczególnie dla algorytmów uczenia nienadzorowanego, gdzie dla kolejno K-means i IsolationTree najlepsze wyniki uzyskanko dla, kolejno: 11 i 17 komponentów, co oznacza znaczną redukcję wymiarów. Efekt ten może wynikać z odszumiania, które jest wynikiem wykorzystania algorytmu PCA.\n",
    "- Dla algorytmu K-means wybrana metryka polegająca na określeniu progowej odległości od wyznaczonych klastrów daja satysfakcjonujące wyniki. W przypadku badania uzyskano lepsze wyniki dla tej strategii niż przy algorytmie Drzew Izolacyjnych.\n",
    "- Dla algorytmu K-means normalizacja wielkością klastrów znacznie poprawiła wyniki, co można zauważyć w pliku 'k-means_results'.\n",
    "- Dla algorytmu K-means wyznaczenie wielu klastrów może poprawić wyniki, co może odpowiadać określeniu kilku klas akcji autoryzowanych.\n",
    "- Dla algorytmu SVM wprowadzenie nieliniowości za pomocą funkcji jądra może poprawić wyniki klasyfikacji.\n",
    "- Najlepsze wyniki uzyskano dla wszystkich klasyfikacji uczenia nazdorowanego, w szczególności XGBoost.\n",
    "- W obu przypadkach uczenia nazdorowanego najlepiej poradziły sobie modele wykorzystujące wzbogacanie zbioru treningowego za pomocą algorytmu 'SMOTE'."
   ]
  }
 ],
 "metadata": {
  "kernelspec": {
   "display_name": ".venv (3.10.11)",
   "language": "python",
   "name": "python3"
  },
  "language_info": {
   "codemirror_mode": {
    "name": "ipython",
    "version": 3
   },
   "file_extension": ".py",
   "mimetype": "text/x-python",
   "name": "python",
   "nbconvert_exporter": "python",
   "pygments_lexer": "ipython3",
   "version": "3.10.11"
  }
 },
 "nbformat": 4,
 "nbformat_minor": 5
}
