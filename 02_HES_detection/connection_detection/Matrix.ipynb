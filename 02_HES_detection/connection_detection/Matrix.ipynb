{
  "cells": [
    {
      "cell_type": "markdown",
      "metadata": {},
      "source": [
        "The notebook `Matrix.ipynb` is included for context only.  \n",
        "I was **not responsible** for its implementation. It was part of a shared academic project.  \n",
        "My contribution was focused on [dataset generation/pipeline].  \n",
        "Please treat this notebook as background reference, not authored code."
      ]
    },
    {
      "cell_type": "markdown",
      "metadata": {
        "id": "ANxmMzfd4jsg"
      },
      "source": [
        "### Importing the dataset preprocessed on Roboflow"
      ]
    },
    {
      "cell_type": "code",
      "execution_count": null,
      "metadata": {
        "colab": {
          "base_uri": "https://localhost:8080/"
        },
        "id": "-a7-Pdv-Hi-T",
        "outputId": "b6f01798-3f02-4e84-beb9-0a91deb00a5d"
      },
      "outputs": [],
      "source": [
        "from roboflow import Roboflow\n",
        "rf = Roboflow(api_key=\"{account_key}\")\n",
        "project = rf.workspace(\"t2-doo52\").project(\"aas2\")\n",
        "version = project.version(1)\n",
        "dataset = version.download(\"yolov8\")\n",
        "\n"
      ]
    },
    {
      "cell_type": "markdown",
      "metadata": {
        "id": "nqF_bqkZ4o48"
      },
      "source": [
        "### Contour detection and matrix output"
      ]
    },
    {
      "cell_type": "code",
      "execution_count": null,
      "metadata": {
        "colab": {
          "base_uri": "https://localhost:8080/",
          "height": 1000
        },
        "id": "y7lKXZn1W0-b",
        "outputId": "8f769d6d-bed6-4c71-8b35-02056c1d2028"
      },
      "outputs": [],
      "source": [
        "import os\n",
        "import cv2\n",
        "import numpy as np\n",
        "import matplotlib.pyplot as plt\n",
        "import copy\n",
        "\n",
        "# Function to read bounding boxes from a TXT file\n",
        "def read_bounding_boxes_from_txt(file_path):\n",
        "    bounding_boxes = []\n",
        "    with open(file_path, 'r') as file:\n",
        "        for line in file:\n",
        "            parts = line.strip().split()\n",
        "            category_id = int(parts[0])\n",
        "            x_center = float(parts[1])\n",
        "            y_center = float(parts[2])\n",
        "            width = float(parts[3])\n",
        "            height = float(parts[4])\n",
        "            bounding_boxes.append({\n",
        "                \"category_id\": category_id,\n",
        "                \"bbox\": (x_center, y_center, width, height)\n",
        "            })\n",
        "    return bounding_boxes\n",
        "\n",
        "# Apply the Chen algorithm for brightness normalization\n",
        "def chen_algorithm(image):\n",
        "    log_image = np.log1p(image.astype(np.float32))\n",
        "    dct_image = cv2.dct(log_image)\n",
        "    mask_size = 15\n",
        "    dct_image[:mask_size, :mask_size] = 0\n",
        "    idct_image = cv2.idct(dct_image)\n",
        "    normalized = cv2.normalize(idct_image, None, 0, 255, cv2.NORM_MINMAX)\n",
        "    return normalized.astype(np.uint8)\n",
        "\n",
        "# Function to determine the closest element to a given point\n",
        "def find_closest_element(x, y, bounding_boxes):\n",
        "    min_distance = float('inf')\n",
        "    closest_element = None\n",
        "    for element_id, (ex, ey, ew, eh) in bounding_boxes:\n",
        "        center_x, center_y = ex + ew / 2, ey + eh / 2\n",
        "        distance = np.sqrt((center_x - x) ** 2 + (center_y - y) ** 2)\n",
        "        if distance < min_distance:\n",
        "            min_distance = distance\n",
        "            closest_element = element_id\n",
        "    return closest_element\n",
        "\n",
        "# Main processing function\n",
        "def process_image_and_label(image_path, label_path):\n",
        "    # Read bounding boxes from the label file\n",
        "    bounding_boxes = read_bounding_boxes_from_txt(label_path)\n",
        "\n",
        "    # Load the image\n",
        "    image = cv2.imread(image_path)\n",
        "    image_height, image_width = image.shape[:2]\n",
        "\n",
        "    # Convert normalized bounding boxes to pixel coordinates\n",
        "    element_bounding_boxes = []\n",
        "    for idx, box in enumerate(bounding_boxes):\n",
        "        x_center, y_center, width, height = box[\"bbox\"]\n",
        "        x_center *= image_width\n",
        "        y_center *= image_height\n",
        "        width *= image_width\n",
        "        height *= image_height\n",
        "        x_min = int(x_center - width / 2)\n",
        "        y_min = int(y_center - height / 2)\n",
        "        element_bounding_boxes.append((idx, (x_min, y_min, int(width), int(height))))\n",
        "\n",
        "    # Draw bounding boxes and their indices on the image\n",
        "    image_with_boxes = copy.deepcopy(image)\n",
        "    for idx, (x_min, y_min, width, height) in element_bounding_boxes:\n",
        "        top_left = (x_min, y_min)\n",
        "        bottom_right = (x_min + width, y_min + height)\n",
        "        cv2.rectangle(image_with_boxes, top_left, bottom_right, (0, 255, 0), 2)\n",
        "        cv2.putText(image_with_boxes, str(idx), (x_min, y_min - 10), cv2.FONT_HERSHEY_SIMPLEX, 0.5, (0, 255, 0), 2)\n",
        "\n",
        "    # Preprocess the image\n",
        "    equalized = cv2.cvtColor(image, cv2.COLOR_BGR2GRAY)\n",
        "    equalized = cv2.equalizeHist(equalized)\n",
        "    equalized = chen_algorithm(equalized)\n",
        "\n",
        "    _, binary = cv2.threshold(equalized, 0, 255, cv2.THRESH_BINARY_INV + cv2.THRESH_OTSU)\n",
        "    kernel = cv2.getStructuringElement(cv2.MORPH_ELLIPSE, (10, 10))\n",
        "    binary = cv2.morphologyEx(binary, cv2.MORPH_DILATE, kernel)\n",
        "    edges = cv2.Canny(binary, 50, 150, apertureSize=3)\n",
        "\n",
        "    # Find contours of the paths\n",
        "    contours, _ = cv2.findContours(edges, cv2.RETR_TREE, cv2.CHAIN_APPROX_SIMPLE)\n",
        "    contours = tuple(arr for arr in contours if arr.shape[0] >= 5)\n",
        "\n",
        "    # Draw contours on the image\n",
        "    cv2.drawContours(image_with_boxes, contours, -1, (0, 255, 0), 2)\n",
        "\n",
        "    # Initialize the connection matrix\n",
        "    num_elements = len(element_bounding_boxes)\n",
        "    connection_matrix = np.zeros((num_elements, num_elements), dtype=int)\n",
        "\n",
        "    # Process each contour\n",
        "    for contour in contours:\n",
        "        epsilon = 0.02 * cv2.arcLength(contour, True)\n",
        "        approx = cv2.approxPolyDP(contour, epsilon, True)\n",
        "        for i in range(len(approx) - 1):\n",
        "            start_point = tuple(approx[i][0])\n",
        "            end_point = tuple(approx[i + 1][0])\n",
        "            start_element = find_closest_element(start_point[0], start_point[1], element_bounding_boxes)\n",
        "            end_element = find_closest_element(end_point[0], end_point[1], element_bounding_boxes)\n",
        "            if start_element is not None and end_element is not None and start_element != end_element:\n",
        "                connection_matrix[start_element][end_element] = 1\n",
        "                connection_matrix[end_element][start_element] = 1  # Assuming bidirectional connections\n",
        "\n",
        "    # Display the image with detected contours and bounding boxes\n",
        "    plt.figure(figsize=(10, 10))\n",
        "    plt.imshow(cv2.cvtColor(image_with_boxes, cv2.COLOR_BGR2RGB))\n",
        "    plt.axis('off')\n",
        "    plt.title(f\"Image: {os.path.basename(image_path)}\")\n",
        "    plt.show()\n",
        "\n",
        "    # Print the connection matrix\n",
        "    print(f\"Connection Matrix for {os.path.basename(image_path)}:\")\n",
        "    print(connection_matrix)\n",
        "\n",
        "# Folder paths\n",
        "folder_path = \"/content/ee-1/train\"\n",
        "pictures_folder = os.path.join(folder_path, \"images\")\n",
        "labels_folder = os.path.join(folder_path, \"labels\")\n",
        "\n",
        "# List all files in the pictures and labels folders\n",
        "picture_files = sorted([f for f in os.listdir(pictures_folder) if f.endswith('.jpg')])\n",
        "label_files = sorted([f for f in os.listdir(labels_folder) if f.endswith('.txt')])\n",
        "\n",
        "# Ensure there is a matching label file for each picture\n",
        "assert len(picture_files) == len(label_files), \"Mismatch between number of pictures and labels\"\n",
        "\n",
        "# Iterate over each image-label pair\n",
        "for picture_file, label_file in zip(picture_files, label_files):\n",
        "    image_path = os.path.join(pictures_folder, picture_file)\n",
        "    label_path = os.path.join(labels_folder, label_file)\n",
        "    process_image_and_label(image_path, label_path)\n"
      ]
    }
  ],
  "metadata": {
    "colab": {
      "provenance": []
    },
    "kernelspec": {
      "display_name": "Python 3",
      "name": "python3"
    },
    "language_info": {
      "name": "python"
    }
  },
  "nbformat": 4,
  "nbformat_minor": 0
}
