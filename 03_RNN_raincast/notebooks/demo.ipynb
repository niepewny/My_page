{
 "cells": [
  {
   "cell_type": "markdown",
   "id": "685ad88d",
   "metadata": {},
   "source": [
    "# Prediction demo"
   ]
  },
  {
   "cell_type": "code",
   "execution_count": 14,
   "id": "e2d88fa8",
   "metadata": {},
   "outputs": [],
   "source": [
    "import sys\n",
    "from pathlib import Path\n",
    "\n",
    "sys.path.append(str(Path.cwd().parent))\n",
    "\n",
    "import numpy as np\n",
    "import matplotlib.pyplot as plt\n",
    "from src.predictors.rain_predictor import RainPredictor\n",
    "import torch"
   ]
  },
  {
   "cell_type": "markdown",
   "id": "735fade3",
   "metadata": {},
   "source": [
    "### Load and split data"
   ]
  },
  {
   "cell_type": "code",
   "execution_count": 24,
   "id": "df101ac1",
   "metadata": {},
   "outputs": [],
   "source": [
    "tensor = np.load(\"../data/sample_ir069_9f.npz\")['tensor']\n",
    "input_data = tensor[:-1,:,:,:]\n",
    "output_ground_truth = tensor[-1,:,:,:]"
   ]
  },
  {
   "cell_type": "markdown",
   "id": "a6e04895",
   "metadata": {},
   "source": [
    "### Visualize input data"
   ]
  },
  {
   "cell_type": "code",
   "execution_count": null,
   "id": "7a41cb2f",
   "metadata": {},
   "outputs": [],
   "source": [
    "channel = 0\n",
    "\n",
    "fig, axes = plt.subplots(2, 4, figsize=(12, 6))\n",
    "axes = axes.ravel()\n",
    "\n",
    "for i in range(input_data.shape[0]):\n",
    "    axes[i].imshow(input_data[i, channel], cmap=\"gray\")\n",
    "    axes[i].set_title(f\"Frame {i}\")\n",
    "    axes[i].axis(\"off\")\n",
    "\n",
    "plt.tight_layout()\n",
    "plt.show()\n",
    "plt.show()"
   ]
  },
  {
   "cell_type": "markdown",
   "id": "ce210089",
   "metadata": {},
   "source": [
    "### Predict frame"
   ]
  },
  {
   "cell_type": "code",
   "execution_count": null,
   "id": "bfd1fe8c",
   "metadata": {},
   "outputs": [],
   "source": [
    "model_path = \"../outputs/hydra_tests_sample/model/model_sample.ckpt\"\n",
    "model = RainPredictor.load_from_checkpoint(model_path, map_location=\"cuda\")\n",
    "model = model.to(\"cuda\").eval()\n",
    "\n",
    "X = torch.from_numpy(input_data).to(device=\"cuda\")\n",
    "X = X.unsqueeze(0)\n",
    "\n",
    "with torch.no_grad():\n",
    "    output = model(X)\n",
    "\n",
    "output = output.to(device=\"cpu\")\n",
    "\n",
    "fig, axes = plt.subplots(1, 2, figsize=(10, 8))\n",
    "axes = axes.ravel()\n",
    "axes[0].imshow(output_ground_truth[0], cmap=\"gray\")\n",
    "axes[0].set_title(\"Ground Truth\")\n",
    "axes[0].axis(\"off\")\n",
    "axes[1].imshow(output[0, channel], cmap=\"gray\")\n",
    "axes[1].set_title(\"Prediction\")\n",
    "axes[1].axis(\"off\")\n",
    "plt.tight_layout()\n",
    "plt.show()\n",
    "plt.show()"
   ]
  }
 ],
 "metadata": {
  "kernelspec": {
   "display_name": ".venv (3.10.11)",
   "language": "python",
   "name": "python3"
  },
  "language_info": {
   "codemirror_mode": {
    "name": "ipython",
    "version": 3
   },
   "file_extension": ".py",
   "mimetype": "text/x-python",
   "name": "python",
   "nbconvert_exporter": "python",
   "pygments_lexer": "ipython3",
   "version": "3.10.11"
  }
 },
 "nbformat": 4,
 "nbformat_minor": 5
}
